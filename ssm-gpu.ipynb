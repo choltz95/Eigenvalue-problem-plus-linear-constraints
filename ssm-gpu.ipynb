{
 "cells": [
  {
   "cell_type": "code",
   "execution_count": null,
   "metadata": {},
   "outputs": [],
   "source": [
    "from typing import Any, Callable, NamedTuple, Tuple, Union\n",
    "Step = int\n",
    "Schedule = Callable[[Step], float]\n",
    "\n",
    "from IPython import display\n",
    "from IPython.display import Image, clear_output\n",
    "from PIL import Image\n",
    "import glob, os, shutil\n",
    "import os.path\n",
    "\n",
    "import time\n",
    "\n",
    "import scipy.io as io\n",
    "from scipy import sparse as sp\n",
    "import scipy.sparse.csgraph as csgraph\n",
    "from scipy.sparse.csgraph import laplacian as csgraph_laplacian\n",
    "from scipy.stats import gaussian_kde\n",
    "from scipy.linalg import null_space\n",
    "\n",
    "import jax\n",
    "from jax import jit, vmap, random, grad, value_and_grad, hessian\n",
    "from jax.experimental import optimizers, sparse\n",
    "from jax.experimental.optimizers import optimizer\n",
    "from jax import numpy as jnp\n",
    "\n",
    "from functools import partial\n",
    "import itertools\n",
    "\n",
    "import math\n",
    "import numpy as np\n",
    "import numpy.random as npr\n",
    "import matplotlib.pyplot as plt\n",
    "%matplotlib inline\n",
    "from matplotlib import collections as mc\n",
    "\n",
    "import seaborn as sns\n",
    "\n",
    "import datetime\n",
    "from tqdm.notebook import tqdm\n",
    "\n",
    "import networkx as nx\n",
    "\n",
    "%load_ext autoreload\n",
    "%autoreload 2"
   ]
  }
 ],
 "metadata": {
  "kernelspec": {
   "display_name": "Python 3",
   "language": "python",
   "name": "python3"
  },
  "language_info": {
   "codemirror_mode": {
    "name": "ipython",
    "version": 3
   },
   "file_extension": ".py",
   "mimetype": "text/x-python",
   "name": "python",
   "nbconvert_exporter": "python",
   "pygments_lexer": "ipython3",
   "version": "3.7.3"
  }
 },
 "nbformat": 4,
 "nbformat_minor": 4
}
